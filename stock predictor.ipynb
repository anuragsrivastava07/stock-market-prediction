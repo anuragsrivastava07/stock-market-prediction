{
 "cells": [
  {
   "cell_type": "code",
   "execution_count": null,
   "metadata": {},
   "outputs": [],
   "source": [
    "#GUI FOR STOCK PREDICTION\n",
    "from tkinter import *\n",
    "def userinterface():\n",
    "    scr=Tk()\n",
    "    #stack name\n",
    "    label=Label(scr,font=('times',20,'bold'),text='stock name')\n",
    "    label.grid(row=0,column=0)\n",
    "    stock=StringVar()\n",
    "    op=OptionMenu(scr,stock,'googl','msft','tcs','appl')\n",
    "    op.grid(row=0,column=1)\n",
    "    #for dividion in presentage data for predict the next stock\n",
    "    label1=Label(scr,font=('times',20,'bold'),text='test Size')\n",
    "    label1.grid(row=1,column=0)\n",
    "    test=DoubleVar()\n",
    "    op1=OptionMenu(scr,test,0.1,0.2,0.3)\n",
    "    op1.grid(row=1,column=1)\n",
    "    #no.of days \n",
    "    label2=Label(scr,font=('times',20,'bold'),text='number of days')\n",
    "    label2.grid(row=2,column=0)\n",
    "    e=Entry(scr,font=('times',20,'bold'))\n",
    "    e.grid(row=2,column=1)\n",
    "    #for evaluate\n",
    "    b=Button(scr,text='evaluate',font=('times',20,'bold'),command=lambda :fun(stock.get(),test.get(),e.get(),label4,m))\n",
    "    b.grid(row=3,column=0)\n",
    "    #for visualize\n",
    "    b1=Button(scr,text='visualize',font=('times',20,'bold'),command=visualize)\n",
    "    b1.grid(row=3,column=1)\n",
    "    #for acurracy\n",
    "    label3=Label(scr,font=('times',20,'bold'),text='Acurracy')\n",
    "    label3.grid(row=4,column=0)\n",
    "    label4=Label(scr,font=('times',20,'bold'))\n",
    "    label4.grid(row=4,column=1)\n",
    "    m=Message(scr,font=('times',20,'bold'))\n",
    "    m.grid(row=5,columnspan=7)\n",
    "    scr.mainloop()"
   ]
  },
  {
   "cell_type": "code",
   "execution_count": null,
   "metadata": {},
   "outputs": [],
   "source": []
  },
  {
   "cell_type": "code",
   "execution_count": null,
   "metadata": {},
   "outputs": [],
   "source": [
    "import numpy as np\n",
    "from sklearn.linear_model import LinearRegression\n",
    "from pandas_datareader import data as dt\n",
    "import datetime\n",
    "import pandas as pd\n",
    "import matplotlib.pyplot as plt\n",
    "from sklearn.model_selection import train_test_split\n",
    "import datetime\n",
    "#main code means linear regration code\n",
    "def fun(stock,test,days,lab,message):\n",
    "    global function\n",
    "    start = datetime.datetime(2010, 1, 1)\n",
    "    end = datetime.datetime.now()\n",
    "    function = dt.DataReader(stock, 'tiingo', start, end,access_key='911ee28d70118f9cea5a84d2b8f1436fa32d3116')\n",
    "    function.reset_index(inplace=True)\n",
    "    function.set_index('date',inplace=True)\n",
    "    function=function[['adjClose', 'adjHigh', 'adjLow', 'adjOpen', 'adjVolume',]]\n",
    "    no_days=int(days)\n",
    "    function['newclose']=function['adjClose'].shift(-no_days)\n",
    "    x=function.drop(['adjClose','newclose'],axis=1)\n",
    "    y=function['newclose'].dropna()\n",
    "    x1=x[:-no_days]\n",
    "    x_pr=x[-no_days:]\n",
    "    x_tr,x_ts,y_tr,y_ts=train_test_split(x1,y,test_size=float(test))\n",
    "    alg=LinearRegression()\n",
    "    alg.fit(x_tr,y_tr)\n",
    "    lab.config(text=str(alg.score(x_ts,y_ts)))\n",
    "    prd=alg.predict(x_pr)\n",
    "    message.config(text=str(prd))\n",
    "    lastday=function.iloc[-1].name\n",
    "    function['forecast']=np.nan\n",
    "    for i in prd:\n",
    "        lastday+=datetime.timedelta(1)\n",
    "        function.loc[lastday]=[np.nan for _ in range(5)]+[i]\n",
    "#code for visualization\n",
    "def visualize():\n",
    "    %matplotlib tk\n",
    "    function['adjClose'].plot()\n",
    "    function['forecast'].plot()\n",
    "    plt.show()"
   ]
  },
  {
   "cell_type": "code",
   "execution_count": null,
   "metadata": {},
   "outputs": [],
   "source": [
    "userinterface()"
   ]
  },
  {
   "cell_type": "code",
   "execution_count": null,
   "metadata": {},
   "outputs": [],
   "source": []
  },
  {
   "cell_type": "code",
   "execution_count": null,
   "metadata": {},
   "outputs": [],
   "source": []
  },
  {
   "cell_type": "code",
   "execution_count": null,
   "metadata": {},
   "outputs": [],
   "source": []
  }
 ],
 "metadata": {
  "kernelspec": {
   "display_name": "Python 3",
   "language": "python",
   "name": "python3"
  },
  "language_info": {
   "codemirror_mode": {
    "name": "ipython",
    "version": 3
   },
   "file_extension": ".py",
   "mimetype": "text/x-python",
   "name": "python",
   "nbconvert_exporter": "python",
   "pygments_lexer": "ipython3",
   "version": "3.6.4"
  }
 },
 "nbformat": 4,
 "nbformat_minor": 2
}
